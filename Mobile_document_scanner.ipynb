{
  "nbformat": 4,
  "nbformat_minor": 0,
  "metadata": {
    "colab": {
      "name": "Mobile_document_scanner.ipynb",
      "provenance": [],
      "collapsed_sections": [],
      "mount_file_id": "12yFE-P7pvAOi34hqVKB_oHvJ3vEiir6b",
      "authorship_tag": "ABX9TyMvgCq4GGh6xZGnhKkVosY2",
      "include_colab_link": true
    },
    "kernelspec": {
      "name": "python3",
      "display_name": "Python 3"
    }
  },
  "cells": [
    {
      "cell_type": "markdown",
      "metadata": {
        "id": "view-in-github",
        "colab_type": "text"
      },
      "source": [
        "<a href=\"https://colab.research.google.com/github/alexsak/opencv_dl/blob/main/Mobile_document_scanner.ipynb\" target=\"_parent\"><img src=\"https://colab.research.google.com/assets/colab-badge.svg\" alt=\"Open In Colab\"/></a>"
      ]
    },
    {
      "cell_type": "markdown",
      "metadata": {
        "id": "LyzVeTQBothQ"
      },
      "source": [
        "\n",
        "Step 1: Import required packages, set argument line.\n",
        "\n",
        "Lines 2-7 handle importing the necessary Python packages that we’ll need.\n",
        "\n",
        "Import four_point_transform function.\n",
        "\n",
        "Import imutils module, containing functions for resizing, rotating, and cropping images. \n",
        "\n",
        "Import 'threshold_local' function from scikit-image, used to obtain the “black and white” feel to our scanned image.\n",
        "\n",
        "Import NumPy for numerical processing, argparse  for parsing command line arguments, and cv2  for our OpenCV bindings.\n",
        "\n",
        "Line 10-13: handle parsing our command line arguments. We’ll need only a single switch image, --image , which is the path to the image that contains the document we want to scan.\n",
        "\n",
        "Step 2: Edge detection\n",
        "\n",
        "Line 17: Load image with cv2.imread, using the input argument passed for \"image\"\n",
        "\n",
        "Line 17-20: Resize image using mutils\n",
        "\n",
        "Line 24: Convert image to grayscale\n",
        "Line 25: Apply Gaussian blur \n",
        "Line 26: Perform Canny edge detection\n",
        "\n",
        "Line 30-31: Display both images\n",
        "\n",
        "Line 37: Find contours of edged image \n",
        "Line 38: Handled differened returned contours due to OpenCV version\n",
        "Line 39: Sort contours by area and discard rest\n",
        "Line 42: Loop through all contours\n",
        "Line 44-45: Approximate number of points\n",
        "Line 49: If contour has 4 points, assume we found the sought result\n",
        "Line 55-56: Display the resulting contour\n",
        "\n",
        "Line 62: Perform warping transformation, multiplying by resized ratio\n",
        "\n",
        "Line 66-68: Take warped image, convert to grayscale and apply thresholding to get black and white feel \n",
        "\n",
        "Line 72-74: Display output"
      ]
    },
    {
      "cell_type": "code",
      "metadata": {
        "colab": {
          "base_uri": "https://localhost:8080/",
          "height": 378
        },
        "id": "sQjbcxBMoKC7",
        "outputId": "c680847b-2ca5-494d-b0a3-21d351d457e8"
      },
      "source": [
        "# import the necessary packages\n",
        "from pyimagesearch.transform import four_point_transform\n",
        "from skimage.filters import threshold_local\n",
        "import numpy as np\n",
        "import argparse\n",
        "import cv2\n",
        "import imutils\n",
        "\n",
        "# construct the argument parser and parse the arguments\n",
        "ap = argparse.ArgumentParser()\n",
        "ap.add_argument(\"-i\", \"--image\", required = True,\n",
        "\thelp = \"Path to the image to be scanned\")\n",
        "args = vars(ap.parse_args())\n",
        "\n",
        "# load the image and compute the ratio of the old height\n",
        "# to the new height, clone it, and resize it\n",
        "image = cv2.imread(args[\"image\"])\n",
        "ratio = image.shape[0] / 500.0\n",
        "orig = image.copy()\n",
        "image = imutils.resize(image, height = 500)\n",
        "\n",
        "# convert the image to grayscale, blur it, and find edges\n",
        "# in the image\n",
        "gray = cv2.cvtColor(image, cv2.COLOR_BGR2GRAY)\n",
        "gray = cv2.GaussianBlur(gray, (5, 5), 0)\n",
        "edged = cv2.Canny(gray, 75, 200)\n",
        "\n",
        "# show the original image and the edge detected image\n",
        "print(\"STEP 1: Edge Detection\")\n",
        "cv2.imshow(\"Image\", image)\n",
        "cv2.imshow(\"Edged\", edged)\n",
        "cv2.waitKey(0)\n",
        "cv2.destroyAllWindows()\n",
        "\n",
        "# find the contours in the edged image, keeping only the\n",
        "# largest ones, and initialize the screen contour\n",
        "cnts = cv2.findContours(edged.copy(), cv2.RETR_LIST, cv2.CHAIN_APPROX_SIMPLE)\n",
        "cnts = imutils.grab_contours(cnts)\n",
        "cnts = sorted(cnts, key = cv2.contourArea, reverse = True)[:5]\n",
        "\n",
        "# loop over the contours\n",
        "for c in cnts:\n",
        "\t# approximate the contour\n",
        "\tperi = cv2.arcLength(c, True)\n",
        "\tapprox = cv2.approxPolyDP(c, 0.02 * peri, True)\n",
        " \n",
        "\t# if our approximated contour has four points, then we\n",
        "\t# can assume that we have found our screen\n",
        "\tif len(approx) == 4:\n",
        "\t\tscreenCnt = approx\n",
        "\t\tbreak\n",
        "\n",
        "# show the contour (outline) of the piece of paper\n",
        "print(\"STEP 2: Find contours of paper\")\n",
        "cv2.drawContours(image, [screenCnt], -1, (0, 255, 0), 2)\n",
        "cv2.imshow(\"Outline\", image)\n",
        "cv2.waitKey(0)\n",
        "cv2.destroyAllWindows()\n",
        "\n",
        "# apply the four point transform to obtain a top-down\n",
        "# view of the original image\n",
        "warped = four_point_transform(orig, screenCnt.reshape(4, 2) * ratio)\n",
        "# convert the warped image to grayscale, then threshold it\n",
        "# to give it that 'black and white' paper effect\n",
        "warped = cv2.cvtColor(warped, cv2.COLOR_BGR2GRAY)\n",
        "T = threshold_local(warped, 11, offset = 10, method = \"gaussian\")\n",
        "warped = (warped > T).astype(\"uint8\") * 255\n",
        "# show the original and scanned images\n",
        "print(\"STEP 3: Apply perspective transform\")\n",
        "cv2.imshow(\"Original\", imutils.resize(orig, height = 650))\n",
        "cv2.imshow(\"Scanned\", imutils.resize(warped, height = 650))\n",
        "cv2.waitKey(0)"
      ],
      "execution_count": 1,
      "outputs": [
        {
          "output_type": "error",
          "ename": "ModuleNotFoundError",
          "evalue": "ignored",
          "traceback": [
            "\u001b[0;31m---------------------------------------------------------------------------\u001b[0m",
            "\u001b[0;31mModuleNotFoundError\u001b[0m                       Traceback (most recent call last)",
            "\u001b[0;32m<ipython-input-1-f59796de138d>\u001b[0m in \u001b[0;36m<module>\u001b[0;34m()\u001b[0m\n\u001b[1;32m      1\u001b[0m \u001b[0;31m# import the necessary packages\u001b[0m\u001b[0;34m\u001b[0m\u001b[0;34m\u001b[0m\u001b[0;34m\u001b[0m\u001b[0m\n\u001b[0;32m----> 2\u001b[0;31m \u001b[0;32mfrom\u001b[0m \u001b[0mpyimagesearch\u001b[0m\u001b[0;34m.\u001b[0m\u001b[0mtransform\u001b[0m \u001b[0;32mimport\u001b[0m \u001b[0mfour_point_transform\u001b[0m\u001b[0;34m\u001b[0m\u001b[0;34m\u001b[0m\u001b[0m\n\u001b[0m\u001b[1;32m      3\u001b[0m \u001b[0;32mfrom\u001b[0m \u001b[0mskimage\u001b[0m\u001b[0;34m.\u001b[0m\u001b[0mfilters\u001b[0m \u001b[0;32mimport\u001b[0m \u001b[0mthreshold_local\u001b[0m\u001b[0;34m\u001b[0m\u001b[0;34m\u001b[0m\u001b[0m\n\u001b[1;32m      4\u001b[0m \u001b[0;32mimport\u001b[0m \u001b[0mnumpy\u001b[0m \u001b[0;32mas\u001b[0m \u001b[0mnp\u001b[0m\u001b[0;34m\u001b[0m\u001b[0;34m\u001b[0m\u001b[0m\n\u001b[1;32m      5\u001b[0m \u001b[0;32mimport\u001b[0m \u001b[0margparse\u001b[0m\u001b[0;34m\u001b[0m\u001b[0;34m\u001b[0m\u001b[0m\n",
            "\u001b[0;31mModuleNotFoundError\u001b[0m: No module named 'pyimagesearch'",
            "",
            "\u001b[0;31m---------------------------------------------------------------------------\u001b[0;32m\nNOTE: If your import is failing due to a missing package, you can\nmanually install dependencies using either !pip or !apt.\n\nTo view examples of installing some common dependencies, click the\n\"Open Examples\" button below.\n\u001b[0;31m---------------------------------------------------------------------------\u001b[0m\n"
          ]
        }
      ]
    }
  ]
}